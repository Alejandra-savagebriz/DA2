{
 "cells": [
  {
   "cell_type": "markdown",
   "id": "a439b3c2",
   "metadata": {},
   "source": [
    "#### Data Analysis 2\n",
    "\n",
    "### Assignment 1\n",
    "Alejandra Savage Briz\n",
    " \n",
    "Central European University\n",
    "\n",
    "\n",
    "\n",
    "**Unconditional gender gap and its variation with the level of education**\n",
    "\n",
    "Using the cps-earnings dataset and the morg-2014-emp.csv"
   ]
  },
  {
   "cell_type": "code",
   "execution_count": null,
   "id": "dbc2f00c",
   "metadata": {},
   "outputs": [],
   "source": []
  }
 ],
 "metadata": {
  "kernelspec": {
   "display_name": "Python 3",
   "language": "python",
   "name": "python3"
  },
  "language_info": {
   "codemirror_mode": {
    "name": "ipython",
    "version": 3
   },
   "file_extension": ".py",
   "mimetype": "text/x-python",
   "name": "python",
   "nbconvert_exporter": "python",
   "pygments_lexer": "ipython3",
   "version": "3.8.8"
  }
 },
 "nbformat": 4,
 "nbformat_minor": 5
}
