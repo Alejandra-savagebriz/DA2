{
 "cells": [
  {
   "cell_type": "markdown",
   "id": "08b08134",
   "metadata": {},
   "source": [
    "#### Data Analysis 2\n",
    "\n",
    "### Assignment 2\n",
    "Alejandra Savage Briz\n",
    "\n",
    "\n",
    "Nicolás Fernandez\n",
    "\n",
    "\n",
    " \n",
    "**Central European University**"
   ]
  },
  {
   "cell_type": "code",
   "execution_count": null,
   "id": "4e2eedf1",
   "metadata": {},
   "outputs": [],
   "source": []
  }
 ],
 "metadata": {
  "kernelspec": {
   "display_name": "Python 3 (ipykernel)",
   "language": "python",
   "name": "python3"
  },
  "language_info": {
   "codemirror_mode": {
    "name": "ipython",
    "version": 3
   },
   "file_extension": ".py",
   "mimetype": "text/x-python",
   "name": "python",
   "nbconvert_exporter": "python",
   "pygments_lexer": "ipython3",
   "version": "3.11.4"
  }
 },
 "nbformat": 4,
 "nbformat_minor": 5
}
