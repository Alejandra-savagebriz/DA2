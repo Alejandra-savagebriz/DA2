{
 "cells": [
  {
   "cell_type": "markdown",
   "id": "498337cc",
   "metadata": {},
   "source": [
    "# Final project:\n",
    "Alejandra Savage Briz"
   ]
  },
  {
   "cell_type": "markdown",
   "id": "fca4a560",
   "metadata": {},
   "source": [
    "## Abstract"
   ]
  },
  {
   "cell_type": "markdown",
   "id": "bac5a599",
   "metadata": {},
   "source": [
    "This study draws upon one clean dataset from two Portuguese high schools, capturing comprehensive student achievement data. Sourced from school reports and questionnaires, this rich dataset includes a spectrum of student-related features, including grades, demographic information, social indicators, parental details, and school-related attributes. \n",
    "\n",
    "Notably, the focus of this analysis centers on one of the datasets, meticulously cleaned and refined to enhance accessibility and usability, specifically describing students' performance in Mathematics. This dataset provides a detailed lens into the interplay between family dynamics and academic performance, offering a focused exploration of the intricate relationship between familial factors and students' mathematical achievements within the high school landscape."
   ]
  },
  {
   "cell_type": "markdown",
   "id": "79b45bfd",
   "metadata": {},
   "source": [
    "_______________________________________________________________________________________________________________________________\n",
    "## Introduction"
   ]
  },
  {
   "cell_type": "markdown",
   "id": "0775de4e",
   "metadata": {},
   "source": [
    "The early days of high school often create a complex interweaving of academic challenges and evolving family dynamics. This study focuses on one aspect of this intricate tapestry: the relationship between family dynamics and academic performance, particularly emphasizing first-period math grades. Employing regression analysis as a tool, the research aims to dissect how the quality of family relationships influences students' mathematical abilities.\n",
    "\n",
    "Beyond this primary inquiry, the study acknowledges the multifaceted nature of the family environment. It considers various factors such as family size, parental education levels, family educational support, and the complexities of parental cohabitation status. Even a student's dedication to studying contributes to this textured weave. By accounting for these elements, the analysis seeks to unravel the nuanced impact of family dynamics on academic outcomes.\n",
    "\n",
    "The overarching goal of this research is to shed light on the diverse influences of family dynamics on the academic journey. By identifying specific dimensions of family dynamics that significantly correlate with, or even predict, math grades, the study aims to establish foundations for impactful interventions and support systems. Imagine educational initiatives aimed at repairing strained relationships, reinforcing supportive elements, and untangling obstacles hindering academic success.\n",
    "\n",
    "The ultimate ambition of this study is to harness the potential of positive family relationships while mitigating the effects of unfavorable family environments. By comprehending the intricate dance between family dynamics and mathematical performance, we can empower students to navigate their academic paths with confidence, guided by the supportive framework of a well-woven family tapestry."
   ]
  },
  {
   "cell_type": "markdown",
   "id": "2b722d35",
   "metadata": {},
   "source": [
    "_______________________________________________________________________________________________________________________________\n",
    "## Data"
   ]
  },
  {
   "cell_type": "markdown",
   "id": "0129a14a",
   "metadata": {},
   "source": [
    "The dataset employed in this research, sourced from Kaggle, comprises student achievement data from two separate Portuguese high schools. Gathered via school reports and questionnaires, this extensive dataset encompasses a diverse array of aspects, including student grades, demographic specifics, social indicators, parental details, and school-related attributes. \n",
    "\n",
    "The dataset was originally thoroughly cleaned with no missing values focusing on the domain of mathematics. With a total of 396 observations, this study centers on analyzing the **first-period grade** as the _**dependent variable (y)**_, while the _**independent variable**_ is the numeric representation of **Family relationship (ranging from 1 - very bad to 5 - excellent)**.\n",
    "\n",
    "Additionally, key factors considered in this analysis encompass Family size, parental education levels, family educational support, parental cohabitation status, and study time. Here's a breakdown of the main variables utilized in this study:\n",
    "\n",
    "- **First Period Grade (y)**: Represents the initial grade achieved in the mathematics course (numeric: from 0 to 20).\n",
    "- **Family Relationship (Independent Variable)**: Numeric scale assessing the quality of family relationships, ranging from 1 (very bad) to 5 (excellent). It acts as the independent variable, scrutinized for its impact on first-period math grades.\n",
    "- **Family Size**: Categorized as \"Less or equal to 3\" or \"Greater than 3,\" indicating the size of the student's family.\n",
    "- **Parental Education**: Ordinal categorization of both mother's and father's education levels, ranging from \"none\" to \"higher education.\"\n",
    "- **Family Educational Support**: Binary assessment (yes or no) of whether the family provides educational support to the student.\n",
    "- **Parental Cohabitation Status**: Binary categorization indicating whether parents live together or apart.\n",
    "- **Study Time**: Weekly study time categorized on an ordinal scale from \"<2 hours\" to \">10 hours,\" reflecting the amount of time spent studying per week.\n",
    "\n",
    "These variables were selected due to their potential influence on a student's academic performance in mathematics, aiming to understand how family dynamics and various related factors interrelate with the first-period math grades in high school."
   ]
  },
  {
   "cell_type": "code",
   "execution_count": null,
   "id": "ba44f9c7",
   "metadata": {},
   "outputs": [],
   "source": []
  }
 ],
 "metadata": {
  "kernelspec": {
   "display_name": "Python 3",
   "language": "python",
   "name": "python3"
  },
  "language_info": {
   "codemirror_mode": {
    "name": "ipython",
    "version": 3
   },
   "file_extension": ".py",
   "mimetype": "text/x-python",
   "name": "python",
   "nbconvert_exporter": "python",
   "pygments_lexer": "ipython3",
   "version": "3.8.8"
  }
 },
 "nbformat": 4,
 "nbformat_minor": 5
}
